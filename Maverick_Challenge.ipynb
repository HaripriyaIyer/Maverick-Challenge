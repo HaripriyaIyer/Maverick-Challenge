{
 "cells": [
  {
   "cell_type": "code",
   "execution_count": 244,
   "metadata": {},
   "outputs": [],
   "source": [
    "import pandas as pd\n",
    "import numpy as np\n",
    "from matplotlib import pyplot as plt\n",
    "import seaborn as sns\n",
    "from sklearn.decomposition import PCA\n",
    "from sklearn.neighbors import KNeighborsClassifier\n",
    "from sklearn.preprocessing import StandardScaler\n",
    "from sklearn.ensemble import RandomForestClassifier\n",
    "from sklearn.ensemble import BaggingClassifier\n",
    "from sklearn.ensemble import GradientBoostingClassifier\n",
    "from sklearn.metrics import classification_report, confusion_matrix"
   ]
  },
  {
   "cell_type": "markdown",
   "metadata": {},
   "source": [
    "### Exploratory Data Analysis"
   ]
  },
  {
   "cell_type": "markdown",
   "metadata": {},
   "source": [
    "#### Data Preprocessing"
   ]
  },
  {
   "cell_type": "markdown",
   "metadata": {},
   "source": [
    "Reading the Files"
   ]
  },
  {
   "cell_type": "code",
   "execution_count": 336,
   "metadata": {},
   "outputs": [
    {
     "data": {
      "text/plain": [
       "(464809, 13)"
      ]
     },
     "execution_count": 336,
     "metadata": {},
     "output_type": "execute_result"
    }
   ],
   "source": [
    "train_df = pd.read_csv('capstone_train.csv\\\\capstone_train.csv')\n",
    "train_df.shape"
   ]
  },
  {
   "cell_type": "code",
   "execution_count": 337,
   "metadata": {},
   "outputs": [
    {
     "data": {
      "text/plain": [
       "(116203, 13)"
      ]
     },
     "execution_count": 337,
     "metadata": {},
     "output_type": "execute_result"
    }
   ],
   "source": [
    "test_df = pd.read_csv('capstone_test.csv\\\\capstone_test.csv')\n",
    "test_df.shape"
   ]
  },
  {
   "cell_type": "markdown",
   "metadata": {},
   "source": [
    "###### Handling Null Values\n",
    "Dropping the NA values since they don't help in prediction and there are not a lot of NA values, so dropping them instead of replacing with random values."
   ]
  },
  {
   "cell_type": "code",
   "execution_count": 338,
   "metadata": {},
   "outputs": [
    {
     "data": {
      "text/plain": [
       "(371776, 13)"
      ]
     },
     "execution_count": 338,
     "metadata": {},
     "output_type": "execute_result"
    }
   ],
   "source": [
    "train_df.dropna(inplace = True)\n",
    "train_df.shape"
   ]
  },
  {
   "cell_type": "code",
   "execution_count": 339,
   "metadata": {},
   "outputs": [
    {
     "data": {
      "text/plain": [
       "(93124, 13)"
      ]
     },
     "execution_count": 339,
     "metadata": {},
     "output_type": "execute_result"
    }
   ],
   "source": [
    "test_df.dropna(inplace = True)\n",
    "test_df.shape"
   ]
  },
  {
   "cell_type": "markdown",
   "metadata": {},
   "source": [
    "### Data Engineering"
   ]
  },
  {
   "cell_type": "markdown",
   "metadata": {},
   "source": [
    "Replacing Categorical Values to Numerical ones to help analyze correlation between variables"
   ]
  },
  {
   "cell_type": "code",
   "execution_count": 355,
   "metadata": {},
   "outputs": [],
   "source": [
    "labels = train_df['Plant_Type'].astype('category').cat.categories.tolist()\n",
    "replaced_labels = {'Plant_Type' : {k: v for k,v in zip(labels,list(range(1,len(labels)+1)))}}\n",
    "train_df_replaced = train_df.copy()\n"
   ]
  },
  {
   "cell_type": "code",
   "execution_count": 356,
   "metadata": {},
   "outputs": [
    {
     "data": {
      "text/html": [
       "<div>\n",
       "<style scoped>\n",
       "    .dataframe tbody tr th:only-of-type {\n",
       "        vertical-align: middle;\n",
       "    }\n",
       "\n",
       "    .dataframe tbody tr th {\n",
       "        vertical-align: top;\n",
       "    }\n",
       "\n",
       "    .dataframe thead th {\n",
       "        text-align: right;\n",
       "    }\n",
       "</style>\n",
       "<table border=\"1\" class=\"dataframe\">\n",
       "  <thead>\n",
       "    <tr style=\"text-align: right;\">\n",
       "      <th></th>\n",
       "      <th>Heigh_From_Sea_Level</th>\n",
       "      <th>Aspect</th>\n",
       "      <th>Slope</th>\n",
       "      <th>Distance_To_Water_Source</th>\n",
       "      <th>Standing_Distance_To_Water_Source</th>\n",
       "      <th>Distance_To_Road</th>\n",
       "      <th>Shadow_In_Morning</th>\n",
       "      <th>Shadow_In_Midday</th>\n",
       "      <th>Shadow_In_Evening</th>\n",
       "      <th>Distance_To_Fire</th>\n",
       "      <th>Turf</th>\n",
       "      <th>Neighbourhood_Type</th>\n",
       "      <th>Plant_Type</th>\n",
       "    </tr>\n",
       "  </thead>\n",
       "  <tbody>\n",
       "    <tr>\n",
       "      <th>0</th>\n",
       "      <td>2984</td>\n",
       "      <td>87</td>\n",
       "      <td>10</td>\n",
       "      <td>234</td>\n",
       "      <td>62</td>\n",
       "      <td>3700</td>\n",
       "      <td>235</td>\n",
       "      <td>224.0</td>\n",
       "      <td>119</td>\n",
       "      <td>2751</td>\n",
       "      <td>29</td>\n",
       "      <td>1</td>\n",
       "      <td>2</td>\n",
       "    </tr>\n",
       "    <tr>\n",
       "      <th>1</th>\n",
       "      <td>3021</td>\n",
       "      <td>283</td>\n",
       "      <td>31</td>\n",
       "      <td>630</td>\n",
       "      <td>372</td>\n",
       "      <td>2155</td>\n",
       "      <td>122</td>\n",
       "      <td>224.0</td>\n",
       "      <td>234</td>\n",
       "      <td>1519</td>\n",
       "      <td>13</td>\n",
       "      <td>3</td>\n",
       "      <td>2</td>\n",
       "    </tr>\n",
       "    <tr>\n",
       "      <th>2</th>\n",
       "      <td>3357</td>\n",
       "      <td>164</td>\n",
       "      <td>14</td>\n",
       "      <td>618</td>\n",
       "      <td>151</td>\n",
       "      <td>1410</td>\n",
       "      <td>232</td>\n",
       "      <td>244.0</td>\n",
       "      <td>140</td>\n",
       "      <td>1866</td>\n",
       "      <td>32</td>\n",
       "      <td>3</td>\n",
       "      <td>1</td>\n",
       "    </tr>\n",
       "    <tr>\n",
       "      <th>3</th>\n",
       "      <td>2787</td>\n",
       "      <td>272</td>\n",
       "      <td>16</td>\n",
       "      <td>150</td>\n",
       "      <td>40</td>\n",
       "      <td>2024</td>\n",
       "      <td>176</td>\n",
       "      <td>243.0</td>\n",
       "      <td>206</td>\n",
       "      <td>957</td>\n",
       "      <td>31</td>\n",
       "      <td>3</td>\n",
       "      <td>2</td>\n",
       "    </tr>\n",
       "    <tr>\n",
       "      <th>4</th>\n",
       "      <td>3011</td>\n",
       "      <td>135</td>\n",
       "      <td>2</td>\n",
       "      <td>576</td>\n",
       "      <td>95</td>\n",
       "      <td>5550</td>\n",
       "      <td>222</td>\n",
       "      <td>238.0</td>\n",
       "      <td>151</td>\n",
       "      <td>1524</td>\n",
       "      <td>29</td>\n",
       "      <td>1</td>\n",
       "      <td>2</td>\n",
       "    </tr>\n",
       "  </tbody>\n",
       "</table>\n",
       "</div>"
      ],
      "text/plain": [
       "   Heigh_From_Sea_Level  Aspect  Slope  Distance_To_Water_Source  \\\n",
       "0                  2984      87     10                       234   \n",
       "1                  3021     283     31                       630   \n",
       "2                  3357     164     14                       618   \n",
       "3                  2787     272     16                       150   \n",
       "4                  3011     135      2                       576   \n",
       "\n",
       "   Standing_Distance_To_Water_Source  Distance_To_Road  Shadow_In_Morning  \\\n",
       "0                                 62              3700                235   \n",
       "1                                372              2155                122   \n",
       "2                                151              1410                232   \n",
       "3                                 40              2024                176   \n",
       "4                                 95              5550                222   \n",
       "\n",
       "   Shadow_In_Midday  Shadow_In_Evening  Distance_To_Fire  Turf  \\\n",
       "0             224.0                119              2751    29   \n",
       "1             224.0                234              1519    13   \n",
       "2             244.0                140              1866    32   \n",
       "3             243.0                206               957    31   \n",
       "4             238.0                151              1524    29   \n",
       "\n",
       "   Neighbourhood_Type  Plant_Type  \n",
       "0                   1           2  \n",
       "1                   3           2  \n",
       "2                   3           1  \n",
       "3                   3           2  \n",
       "4                   1           2  "
      ]
     },
     "execution_count": 356,
     "metadata": {},
     "output_type": "execute_result"
    }
   ],
   "source": [
    "train_df_replaced.replace(replaced_labels, inplace=True)\n",
    "train_df_replaced.head()\n"
   ]
  },
  {
   "cell_type": "code",
   "execution_count": 357,
   "metadata": {},
   "outputs": [],
   "source": [
    "labels = test_df['Plant_Type'].astype('category').cat.categories.tolist()\n",
    "replaced_labels = {'Plant_Type' : {k: v for k,v in zip(labels,list(range(1,len(labels)+1)))}}\n",
    "test_df_rep = test_df.copy()\n"
   ]
  },
  {
   "cell_type": "code",
   "execution_count": 358,
   "metadata": {},
   "outputs": [
    {
     "data": {
      "text/html": [
       "<div>\n",
       "<style scoped>\n",
       "    .dataframe tbody tr th:only-of-type {\n",
       "        vertical-align: middle;\n",
       "    }\n",
       "\n",
       "    .dataframe tbody tr th {\n",
       "        vertical-align: top;\n",
       "    }\n",
       "\n",
       "    .dataframe thead th {\n",
       "        text-align: right;\n",
       "    }\n",
       "</style>\n",
       "<table border=\"1\" class=\"dataframe\">\n",
       "  <thead>\n",
       "    <tr style=\"text-align: right;\">\n",
       "      <th></th>\n",
       "      <th>Heigh_From_Sea_Level</th>\n",
       "      <th>Aspect</th>\n",
       "      <th>Slope</th>\n",
       "      <th>Distance_To_Water_Source</th>\n",
       "      <th>Standing_Distance_To_Water_Source</th>\n",
       "      <th>Distance_To_Road</th>\n",
       "      <th>Shadow_In_Morning</th>\n",
       "      <th>Shadow_In_Midday</th>\n",
       "      <th>Shadow_In_Evening</th>\n",
       "      <th>Distance_To_Fire</th>\n",
       "      <th>Turf</th>\n",
       "      <th>Neighbourhood_Type</th>\n",
       "      <th>Plant_Type</th>\n",
       "    </tr>\n",
       "  </thead>\n",
       "  <tbody>\n",
       "    <tr>\n",
       "      <th>0</th>\n",
       "      <td>3258</td>\n",
       "      <td>225</td>\n",
       "      <td>2</td>\n",
       "      <td>631</td>\n",
       "      <td>148</td>\n",
       "      <td>1739</td>\n",
       "      <td>217</td>\n",
       "      <td>240.0</td>\n",
       "      <td>161</td>\n",
       "      <td>2340</td>\n",
       "      <td>31</td>\n",
       "      <td>3</td>\n",
       "      <td>1</td>\n",
       "    </tr>\n",
       "    <tr>\n",
       "      <th>1</th>\n",
       "      <td>3033</td>\n",
       "      <td>229</td>\n",
       "      <td>24</td>\n",
       "      <td>552</td>\n",
       "      <td>341</td>\n",
       "      <td>2277</td>\n",
       "      <td>176</td>\n",
       "      <td>253.0</td>\n",
       "      <td>206</td>\n",
       "      <td>1318</td>\n",
       "      <td>13</td>\n",
       "      <td>3</td>\n",
       "      <td>2</td>\n",
       "    </tr>\n",
       "    <tr>\n",
       "      <th>2</th>\n",
       "      <td>2838</td>\n",
       "      <td>355</td>\n",
       "      <td>20</td>\n",
       "      <td>108</td>\n",
       "      <td>21</td>\n",
       "      <td>674</td>\n",
       "      <td>183</td>\n",
       "      <td>201.0</td>\n",
       "      <td>152</td>\n",
       "      <td>418</td>\n",
       "      <td>31</td>\n",
       "      <td>3</td>\n",
       "      <td>2</td>\n",
       "    </tr>\n",
       "    <tr>\n",
       "      <th>3</th>\n",
       "      <td>3098</td>\n",
       "      <td>122</td>\n",
       "      <td>10</td>\n",
       "      <td>242</td>\n",
       "      <td>76</td>\n",
       "      <td>4821</td>\n",
       "      <td>238</td>\n",
       "      <td>232.0</td>\n",
       "      <td>124</td>\n",
       "      <td>268</td>\n",
       "      <td>29</td>\n",
       "      <td>1</td>\n",
       "      <td>2</td>\n",
       "    </tr>\n",
       "    <tr>\n",
       "      <th>4</th>\n",
       "      <td>3221</td>\n",
       "      <td>189</td>\n",
       "      <td>24</td>\n",
       "      <td>153</td>\n",
       "      <td>41</td>\n",
       "      <td>2121</td>\n",
       "      <td>214</td>\n",
       "      <td>250.0</td>\n",
       "      <td>157</td>\n",
       "      <td>1423</td>\n",
       "      <td>33</td>\n",
       "      <td>3</td>\n",
       "      <td>1</td>\n",
       "    </tr>\n",
       "  </tbody>\n",
       "</table>\n",
       "</div>"
      ],
      "text/plain": [
       "   Heigh_From_Sea_Level  Aspect  Slope  Distance_To_Water_Source  \\\n",
       "0                  3258     225      2                       631   \n",
       "1                  3033     229     24                       552   \n",
       "2                  2838     355     20                       108   \n",
       "3                  3098     122     10                       242   \n",
       "4                  3221     189     24                       153   \n",
       "\n",
       "   Standing_Distance_To_Water_Source  Distance_To_Road  Shadow_In_Morning  \\\n",
       "0                                148              1739                217   \n",
       "1                                341              2277                176   \n",
       "2                                 21               674                183   \n",
       "3                                 76              4821                238   \n",
       "4                                 41              2121                214   \n",
       "\n",
       "   Shadow_In_Midday  Shadow_In_Evening  Distance_To_Fire  Turf  \\\n",
       "0             240.0                161              2340    31   \n",
       "1             253.0                206              1318    13   \n",
       "2             201.0                152               418    31   \n",
       "3             232.0                124               268    29   \n",
       "4             250.0                157              1423    33   \n",
       "\n",
       "   Neighbourhood_Type  Plant_Type  \n",
       "0                   3           1  \n",
       "1                   3           2  \n",
       "2                   3           2  \n",
       "3                   1           2  \n",
       "4                   3           1  "
      ]
     },
     "execution_count": 358,
     "metadata": {},
     "output_type": "execute_result"
    }
   ],
   "source": [
    "test_df_rep.replace(replaced_labels, inplace=True)\n",
    "test_df_rep.head()"
   ]
  },
  {
   "cell_type": "markdown",
   "metadata": {},
   "source": [
    "#### Univariate Analysis"
   ]
  },
  {
   "cell_type": "code",
   "execution_count": 387,
   "metadata": {},
   "outputs": [
    {
     "data": {
      "image/png": "[encoded data removed]",
      "text/plain": [
       "<Figure size 432x288 with 1 Axes>"
      ]
     },
     "metadata": {
      "needs_background": "light"
     },
     "output_type": "display_data"
    }
   ],
   "source": [
    "plt.hist(train_df_replaced['Plant_Type'])\n",
    "plt.title('Histogram Plot of Plant types')\n",
    "plt.show()"
   ]
  },
  {
   "cell_type": "code",
   "execution_count": 395,
   "metadata": {},
   "outputs": [
    {
     "data": {
      "text/plain": [
       "<matplotlib.axes._subplots.AxesSubplot at 0x220306b9358>"
      ]
     },
     "execution_count": 395,
     "metadata": {},
     "output_type": "execute_result"
    },
    {
     "data": {
      "image/png": "[encoded data removed]",
      "text/plain": [
       "<Figure size 432x288 with 1 Axes>"
      ]
     },
     "metadata": {
      "needs_background": "light"
     },
     "output_type": "display_data"
    }
   ],
   "source": [
    "train_df_replaced.boxplot('Plant_Type',rot = 30)"
   ]
  },
  {
   "cell_type": "markdown",
   "metadata": {},
   "source": [
    "Univariate Analysis of the target variable shows that there is a lot of imbalance in the data, the classes 1 and 2 i.e Assassin Wine and Ascomoid are present in large numbers as opposed to other classes. In the box plot we can see that apart from the first two classes the rest are shown as outliers which is clearly not the case here, they are just classes that are not frequent denoting that the dataset is unbalanced."
   ]
  },
  {
   "cell_type": "code",
   "execution_count": 411,
   "metadata": {},
   "outputs": [
    {
     "data": {
      "image/png": "[encoded data removed]",
      "text/plain": [
       "<Figure size 864x432 with 1 Axes>"
      ]
     },
     "metadata": {
      "needs_background": "light"
     },
     "output_type": "display_data"
    }
   ],
   "source": [
    "\n",
    "plt.figure(figsize=(12, 6))\n",
    "\n",
    "ax = sns.boxplot(x=\"variable\", y=\"value\", data=pd.melt(train_df_replaced))\n",
    "plt.setp(ax.get_xticklabels(), rotation=65)\n",
    "plt.title(\"Box plot of all the Features of the Dataset\")\n",
    "plt.show()\n"
   ]
  },
  {
   "cell_type": "markdown",
   "metadata": {},
   "source": [
    "The Boxplot shows that the are no obvious outliers in the features present, there are well within the range of values given in the data dictionary."
   ]
  },
  {
   "cell_type": "markdown",
   "metadata": {},
   "source": [
    "#### Bivariate Analysis"
   ]
  },
  {
   "cell_type": "code",
   "execution_count": 393,
   "metadata": {},
   "outputs": [
    {
     "data": {
      "image/png": "[encoded data removed]",
      "text/plain": [
       "<Figure size 432x288 with 2 Axes>"
      ]
     },
     "metadata": {
      "needs_background": "light"
     },
     "output_type": "display_data"
    }
   ],
   "source": [
    "corr = train_df_replaced.corr()\n",
    "ax = sns.heatmap(\n",
    "    corr, \n",
    "    vmin=-1, vmax=1, center=0,\n",
    "    cmap=sns.diverging_palette(20, 220, n=200),\n",
    "    square=True\n",
    ")\n",
    "ax.set_xticklabels(\n",
    "    ax.get_xticklabels(),\n",
    "    rotation=45,\n",
    "    horizontalalignment='right'\n",
    ");"
   ]
  },
  {
   "cell_type": "markdown",
   "metadata": {},
   "source": [
    "This Correlation plot shows that higher Correlation with the target variable, of more than 0.5, can be observed in 6 other independent variables. This confirms that we can perform dimensional reduction on the data. Since not all of the independent variables are directly correlated to the target variable."
   ]
  },
  {
   "cell_type": "markdown",
   "metadata": {},
   "source": [
    "#### Key segments for all the plants (train + test) based on the average sunlight and their distance from waterbody "
   ]
  },
  {
   "cell_type": "code",
   "execution_count": 359,
   "metadata": {},
   "outputs": [
    {
     "data": {
      "text/html": [
       "<div>\n",
       "<style scoped>\n",
       "    .dataframe tbody tr th:only-of-type {\n",
       "        vertical-align: middle;\n",
       "    }\n",
       "\n",
       "    .dataframe tbody tr th {\n",
       "        vertical-align: top;\n",
       "    }\n",
       "\n",
       "    .dataframe thead th {\n",
       "        text-align: right;\n",
       "    }\n",
       "</style>\n",
       "<table border=\"1\" class=\"dataframe\">\n",
       "  <thead>\n",
       "    <tr style=\"text-align: right;\">\n",
       "      <th></th>\n",
       "      <th>Heigh_From_Sea_Level</th>\n",
       "      <th>Aspect</th>\n",
       "      <th>Slope</th>\n",
       "      <th>Distance_To_Water_Source</th>\n",
       "      <th>Standing_Distance_To_Water_Source</th>\n",
       "      <th>Distance_To_Road</th>\n",
       "      <th>Shadow_In_Morning</th>\n",
       "      <th>Shadow_In_Midday</th>\n",
       "      <th>Shadow_In_Evening</th>\n",
       "      <th>Distance_To_Fire</th>\n",
       "      <th>Turf</th>\n",
       "      <th>Neighbourhood_Type</th>\n",
       "      <th>Plant_Type</th>\n",
       "    </tr>\n",
       "  </thead>\n",
       "  <tbody>\n",
       "    <tr>\n",
       "      <th>0</th>\n",
       "      <td>2984</td>\n",
       "      <td>87</td>\n",
       "      <td>10</td>\n",
       "      <td>234</td>\n",
       "      <td>62</td>\n",
       "      <td>3700</td>\n",
       "      <td>235</td>\n",
       "      <td>224.0</td>\n",
       "      <td>119</td>\n",
       "      <td>2751</td>\n",
       "      <td>29</td>\n",
       "      <td>1</td>\n",
       "      <td>2</td>\n",
       "    </tr>\n",
       "    <tr>\n",
       "      <th>1</th>\n",
       "      <td>3021</td>\n",
       "      <td>283</td>\n",
       "      <td>31</td>\n",
       "      <td>630</td>\n",
       "      <td>372</td>\n",
       "      <td>2155</td>\n",
       "      <td>122</td>\n",
       "      <td>224.0</td>\n",
       "      <td>234</td>\n",
       "      <td>1519</td>\n",
       "      <td>13</td>\n",
       "      <td>3</td>\n",
       "      <td>2</td>\n",
       "    </tr>\n",
       "    <tr>\n",
       "      <th>2</th>\n",
       "      <td>3357</td>\n",
       "      <td>164</td>\n",
       "      <td>14</td>\n",
       "      <td>618</td>\n",
       "      <td>151</td>\n",
       "      <td>1410</td>\n",
       "      <td>232</td>\n",
       "      <td>244.0</td>\n",
       "      <td>140</td>\n",
       "      <td>1866</td>\n",
       "      <td>32</td>\n",
       "      <td>3</td>\n",
       "      <td>1</td>\n",
       "    </tr>\n",
       "    <tr>\n",
       "      <th>3</th>\n",
       "      <td>2787</td>\n",
       "      <td>272</td>\n",
       "      <td>16</td>\n",
       "      <td>150</td>\n",
       "      <td>40</td>\n",
       "      <td>2024</td>\n",
       "      <td>176</td>\n",
       "      <td>243.0</td>\n",
       "      <td>206</td>\n",
       "      <td>957</td>\n",
       "      <td>31</td>\n",
       "      <td>3</td>\n",
       "      <td>2</td>\n",
       "    </tr>\n",
       "    <tr>\n",
       "      <th>4</th>\n",
       "      <td>3011</td>\n",
       "      <td>135</td>\n",
       "      <td>2</td>\n",
       "      <td>576</td>\n",
       "      <td>95</td>\n",
       "      <td>5550</td>\n",
       "      <td>222</td>\n",
       "      <td>238.0</td>\n",
       "      <td>151</td>\n",
       "      <td>1524</td>\n",
       "      <td>29</td>\n",
       "      <td>1</td>\n",
       "      <td>2</td>\n",
       "    </tr>\n",
       "  </tbody>\n",
       "</table>\n",
       "</div>"
      ],
      "text/plain": [
       "   Heigh_From_Sea_Level  Aspect  Slope  Distance_To_Water_Source  \\\n",
       "0                  2984      87     10                       234   \n",
       "1                  3021     283     31                       630   \n",
       "2                  3357     164     14                       618   \n",
       "3                  2787     272     16                       150   \n",
       "4                  3011     135      2                       576   \n",
       "\n",
       "   Standing_Distance_To_Water_Source  Distance_To_Road  Shadow_In_Morning  \\\n",
       "0                                 62              3700                235   \n",
       "1                                372              2155                122   \n",
       "2                                151              1410                232   \n",
       "3                                 40              2024                176   \n",
       "4                                 95              5550                222   \n",
       "\n",
       "   Shadow_In_Midday  Shadow_In_Evening  Distance_To_Fire  Turf  \\\n",
       "0             224.0                119              2751    29   \n",
       "1             224.0                234              1519    13   \n",
       "2             244.0                140              1866    32   \n",
       "3             243.0                206               957    31   \n",
       "4             238.0                151              1524    29   \n",
       "\n",
       "   Neighbourhood_Type  Plant_Type  \n",
       "0                   1           2  \n",
       "1                   3           2  \n",
       "2                   3           1  \n",
       "3                   3           2  \n",
       "4                   1           2  "
      ]
     },
     "execution_count": 359,
     "metadata": {},
     "output_type": "execute_result"
    }
   ],
   "source": [
    "full_ds = train_df_replaced.append(test_df_rep)\n",
    "full_ds.head()"
   ]
  },
  {
   "cell_type": "code",
   "execution_count": 384,
   "metadata": {},
   "outputs": [],
   "source": [
    "plant_labels = train_df['Plant_Type'].unique()\n",
    "avg_water_dist_list = []\n",
    "avg_sun_dur_list = []\n",
    "for i in range(1,8):\n",
    "    avg_water_dist_list.append(np.mean(full_ds[full_ds['Plant_Type']==(i)]['Distance_To_Water_Source']))\n",
    "    \n",
    "for i in range(1,8):\n",
    "    avg_sun_dur_list.append(np.mean(full_ds[full_ds['Plant_Type']==(i)]['Shadow_In_Morning'])+np.mean(full_ds[full_ds['Plant_Type']==(i)]['Shadow_In_Evening'])+np.mean(full_ds[full_ds['Plant_Type']==(i)]['Shadow_In_Midday']))\n",
    "    \n"
   ]
  },
  {
   "cell_type": "code",
   "execution_count": 417,
   "metadata": {},
   "outputs": [
    {
     "data": {
      "text/plain": [
       "[<matplotlib.lines.Line2D at 0x22039eea128>]"
      ]
     },
     "execution_count": 417,
     "metadata": {},
     "output_type": "execute_result"
    },
    {
     "data": {
      "image/png": "[encoded data removed]",
      "text/plain": [
       "<Figure size 864x360 with 2 Axes>"
      ]
     },
     "metadata": {
      "needs_background": "light"
     },
     "output_type": "display_data"
    }
   ],
   "source": [
    "fig, (ax1, ax2) = plt.subplots(1, 2,figsize=(12,5))\n",
    "fig.suptitle('Distance from Water and Sunlight durations')\n",
    "\n",
    "ax1.set_title('Average Distance of Each Plant Type from the Water Source')\n",
    "ax1.bar(plant_labels,avg_water_dist_list)\n",
    "ax1.set(xlabel = 'Plant Types',ylabel = 'Avg Distance from Water Source')\n",
    "ax1.tick_params(axis='x',  rotation=30)\n",
    "\n",
    "ax2.set_title('Total Shadow Index of Each Plant Type')\n",
    "ax2.bar(plant_labels,avg_sun_dur_list)\n",
    "ax2.set(xlabel = 'Plant Types',ylabel = 'Total Shadow Index ')\n",
    "ax2.tick_params(axis='x', rotation=30)\n",
    "ax2.plot(avg_sun_dur_list,color='red')\n",
    "\n"
   ]
  },
  {
   "cell_type": "markdown",
   "metadata": {},
   "source": [
    "From the analysis we can infer the folowing insights about the different plant types to identify which segments of plants are getting enough sunlight and water vs which ones are not:\n",
    "\n",
    "|   Plant_Type  | Distance from Water   |  Sunglight Duration\n",
    "|-------------  |-----------------------|------------------------- |\n",
    "| Assassin Vine | Gets enough Water    | Gets the least Sunlight  |\n",
    "|   Ascomoid    | Gets enough Water    | Gets the most Sunlight |\n",
    "|   Kelpie      | Gets less Water       | Gets the least Sunlight  |\n",
    "|   Basidirond  | Gets the least Water  | Gets enough Sunlight  |\n",
    "|   Myconid     | Gets less Water       | Gets enough Sunlight  |\n",
    "| Hangman Tree  | Gets less Water       | Gets the least Sunlight  |\n",
    "|  Dark Tree    | Gets the most Water   | Gets the most Sunlight  |\n",
    " \n",
    "#### Insights from EDA\n",
    "\n",
    "1. The target variable analysis shows that the data is imbalanced in nature, so machine learning models to be chosen should be based on this important fact.\n",
    "2. The Dataset did not contain much Null values and the outliers are not that significant as seen from the box plot of the dataset.\n",
    "3. The dataset is eligible for dimensional reduction because there are many indepedent variables not correlated to the target variable.\n",
    "4. Also from the EDA we could identify which plant types are getting enough sunlight and water vs which ones are not. "
   ]
  },
  {
   "cell_type": "markdown",
   "metadata": {},
   "source": [
    "### Data Preparation for Predictive Modeling\n"
   ]
  },
  {
   "cell_type": "code",
   "execution_count": null,
   "metadata": {},
   "outputs": [],
   "source": [
    "target_train = train_df_replaced['Plant_Type']\n",
    "train_df_replaced = train_df_replaced.drop(['Plant_Type'],axis = 1)\n",
    "train_df_replaced.shape\n"
   ]
  },
  {
   "cell_type": "code",
   "execution_count": null,
   "metadata": {},
   "outputs": [],
   "source": [
    "target_test = test_df_rep['Plant_Type']\n",
    "test_df_rep = test_df_rep.drop(['Plant_Type'],axis = 1)\n",
    "test_df_rep.shape"
   ]
  },
  {
   "cell_type": "markdown",
   "metadata": {},
   "source": [
    "Normalizing the scale and applying PCA to obtain principal features/variables"
   ]
  },
  {
   "cell_type": "code",
   "execution_count": 255,
   "metadata": {},
   "outputs": [
    {
     "data": {
      "text/plain": [
       "(371776, 9)"
      ]
     },
     "execution_count": 255,
     "metadata": {},
     "output_type": "execute_result"
    }
   ],
   "source": [
    "pca = PCA(.95)\n",
    "scaler = StandardScaler()\n",
    "scaler.fit(train_df_replaced)\n",
    "train_df_replaced = scaler.transform(train_df_replaced)\n",
    "\n",
    "pca.fit(train_df_replaced)\n",
    "train_pca_df = pca.transform(train_df_replaced)\n",
    "train_pca_df.shape"
   ]
  },
  {
   "cell_type": "code",
   "execution_count": 256,
   "metadata": {},
   "outputs": [
    {
     "data": {
      "text/plain": [
       "(93124, 9)"
      ]
     },
     "execution_count": 256,
     "metadata": {},
     "output_type": "execute_result"
    }
   ],
   "source": [
    "scaler = StandardScaler()\n",
    "scaler.fit(test_df_rep)\n",
    "test_df_rep = scaler.transform(test_df_rep)\n",
    "\n",
    "pca.fit(test_df_rep)\n",
    "test_pca_df = pca.transform(test_df_rep)\n",
    "test_pca_df.shape"
   ]
  },
  {
   "cell_type": "code",
   "execution_count": 184,
   "metadata": {},
   "outputs": [
    {
     "data": {
      "text/plain": [
       "9"
      ]
     },
     "execution_count": 184,
     "metadata": {},
     "output_type": "execute_result"
    }
   ],
   "source": [
    "pca.n_components_ "
   ]
  },
  {
   "cell_type": "markdown",
   "metadata": {},
   "source": [
    "### Classification Model Predictions with hyperparameter tuning."
   ]
  },
  {
   "cell_type": "markdown",
   "metadata": {},
   "source": [
    "#### Applying KNN Model"
   ]
  },
  {
   "cell_type": "markdown",
   "metadata": {},
   "source": [
    "KNN algorithm is not sensisitive to imbalance data, since it classifies the data based on the number of neighbours present. So this algorithm would work well when classifying the data."
   ]
  },
  {
   "cell_type": "code",
   "execution_count": 178,
   "metadata": {},
   "outputs": [
    {
     "data": {
      "text/plain": [
       "Text(0, 0.5, 'Mean Error')"
      ]
     },
     "execution_count": 178,
     "metadata": {},
     "output_type": "execute_result"
    },
    {
     "data": {
      "image/png": "[encoded data removed]",
      "text/plain": [
       "<Figure size 864x432 with 1 Axes>"
      ]
     },
     "metadata": {
      "needs_background": "light"
     },
     "output_type": "display_data"
    }
   ],
   "source": [
    "error = []\n",
    "for i in range(2, 7):\n",
    "    knn = KNeighborsClassifier(n_neighbors=i)\n",
    "    knn.fit(train_pca_df, target_train)\n",
    "    pred_i = knn.predict(test_pca_df)\n",
    "    error.append(np.mean(pred_i != target_test))\n",
    "    \n",
    "    \n",
    "plt.figure(figsize=(12, 6))\n",
    "plt.plot(range(2, 7), error, color='red', linestyle='dashed', marker='o',\n",
    "         markerfacecolor='blue', markersize=10)\n",
    "plt.title('Error Rate K Value')\n",
    "plt.xlabel('K Value')\n",
    "plt.ylabel('Mean Error')"
   ]
  },
  {
   "cell_type": "markdown",
   "metadata": {},
   "source": [
    "The best k value as per the error graph is 3, also increasing the K value further increases the error, this also explains the fact that there is imabalance in data due to which error increases when K value increases, with smaller number of K/neightbours the plant types that are not present in large numbers can be classified easily."
   ]
  },
  {
   "cell_type": "code",
   "execution_count": 391,
   "metadata": {},
   "outputs": [
    {
     "name": "stdout",
     "output_type": "stream",
     "text": [
      "[[30692  3080     1     0    41     9   179]\n",
      " [ 2991 41655   196     2   233   183    25]\n",
      " [   12   253  5015    62    15   444     0]\n",
      " [    0    23   124   285     0    36     0]\n",
      " [   92   320    26     0  1091    10     0]\n",
      " [   29   273   418    18    11  1999     0]\n",
      " [  228    34     0     0     0     0  3019]]\n"
     ]
    },
    {
     "data": {
      "image/png": "[encoded data removed]",
      "text/plain": [
       "<Figure size 504x576 with 2 Axes>"
      ]
     },
     "metadata": {
      "needs_background": "light"
     },
     "output_type": "display_data"
    },
    {
     "name": "stdout",
     "output_type": "stream",
     "text": [
      "              precision    recall  f1-score   support\n",
      "\n",
      "           1       0.90      0.90      0.90     34002\n",
      "           2       0.91      0.92      0.92     45285\n",
      "           3       0.87      0.86      0.87      5801\n",
      "           4       0.78      0.61      0.68       468\n",
      "           5       0.78      0.71      0.74      1539\n",
      "           6       0.75      0.73      0.74      2748\n",
      "           7       0.94      0.92      0.93      3281\n",
      "\n",
      "    accuracy                           0.90     93124\n",
      "   macro avg       0.85      0.81      0.83     93124\n",
      "weighted avg       0.90      0.90      0.90     93124\n",
      "\n"
     ]
    }
   ],
   "source": [
    "classifier = KNeighborsClassifier(n_neighbors=3)\n",
    "classifier.fit(train_pca_df, target_train)\n",
    "test_df_pred = classifier.predict(test_pca_df)\n",
    "cm = confusion_matrix(target_test, test_df_pred)\n",
    "print(cm)\n",
    "fig = plt.figure(figsize=(7, 8))\n",
    "ax = fig.add_subplot(111)\n",
    "cax = ax.matshow(cm)\n",
    "plt.title('Confusion matrix of the classifier')\n",
    "fig.colorbar(cax)\n",
    "\n",
    "plt.xlabel('Predicted')\n",
    "plt.ylabel('True')\n",
    "plt.show()\n",
    "print(classification_report(target_test, test_df_pred))"
   ]
  },
  {
   "cell_type": "markdown",
   "metadata": {},
   "source": [
    "#### Applying Bagging Model"
   ]
  },
  {
   "cell_type": "markdown",
   "metadata": {},
   "source": [
    "Ensemble methods are one of the better approaches to deal with imbalanced data, since this method incorporates sampling of the dataset, which would take into consideration all the imbalanced classes as well."
   ]
  },
  {
   "cell_type": "code",
   "execution_count": 263,
   "metadata": {},
   "outputs": [
    {
     "name": "stdout",
     "output_type": "stream",
     "text": [
      "[[30013  3800     0     0    37    10   142]\n",
      " [ 3279 41508   244     3   109   124    18]\n",
      " [    5   353  5084    62     9   288     0]\n",
      " [    0    20   115   295     0    38     0]\n",
      " [  100   527    30     0   874     8     0]\n",
      " [   10   370   559    20    10  1779     0]\n",
      " [  341    50     0     0     0     0  2890]]\n"
     ]
    },
    {
     "data": {
      "image/png": "[encoded data removed]",
      "text/plain": [
       "<Figure size 504x576 with 2 Axes>"
      ]
     },
     "metadata": {
      "needs_background": "light"
     },
     "output_type": "display_data"
    },
    {
     "name": "stdout",
     "output_type": "stream",
     "text": [
      "              precision    recall  f1-score   support\n",
      "\n",
      "           1       0.89      0.88      0.89     34002\n",
      "           2       0.89      0.92      0.90     45285\n",
      "           3       0.84      0.88      0.86      5801\n",
      "           4       0.78      0.63      0.70       468\n",
      "           5       0.84      0.57      0.68      1539\n",
      "           6       0.79      0.65      0.71      2748\n",
      "           7       0.95      0.88      0.91      3281\n",
      "\n",
      "    accuracy                           0.89     93124\n",
      "   macro avg       0.85      0.77      0.81     93124\n",
      "weighted avg       0.88      0.89      0.88     93124\n",
      "\n"
     ]
    }
   ],
   "source": [
    "clf_b = BaggingClassifier(n_estimators=15, random_state=0)\n",
    "clf_b.fit(train_pca_df, target_train)\n",
    "test_predict_b = clf_b.predict(test_pca_df)\n",
    "\n",
    "cm = confusion_matrix(target_test, test_predict_b)\n",
    "print(cm)\n",
    "fig = plt.figure(figsize=(7, 8))\n",
    "ax = fig.add_subplot(111)\n",
    "cax = ax.matshow(cm)\n",
    "plt.title('Confusion matrix of the classifier')\n",
    "fig.colorbar(cax)\n",
    "\n",
    "plt.xlabel('Predicted')\n",
    "plt.ylabel('True')\n",
    "plt.show()\n",
    "\n",
    "print(classification_report(target_test, test_predict_b))"
   ]
  },
  {
   "cell_type": "markdown",
   "metadata": {},
   "source": [
    "This model does take into consideration imabalance of the classes well, the random subsampling of the classes helps in distributing the training data equally to avoid bias, it tries its best to fit the test data as accurately as possible, if there were more hyperparameter tuning possible then that could have been taken into account. \n",
    "<br>\n",
    "<b>Limitations:</b> Number of trees used was only 15 due to longer computation time on the training dataset. Other parameters like sampling data and methods can also be tuned with more computational power to get better results."
   ]
  },
  {
   "cell_type": "markdown",
   "metadata": {},
   "source": [
    "#### Applying Gradient Boosting Model"
   ]
  },
  {
   "cell_type": "code",
   "execution_count": 262,
   "metadata": {},
   "outputs": [
    {
     "name": "stdout",
     "output_type": "stream",
     "text": [
      "[[19148 14638     2     1    39     0   174]\n",
      " [ 9396 34960   646    19    48   162    54]\n",
      " [    2  1207  4205    89     0   298     0]\n",
      " [    0    35   260   124     0    49     0]\n",
      " [  149  1196    27     0   166     1     0]\n",
      " [   20   952  1304    61     0   411     0]\n",
      " [ 2012   205     3     0     3     0  1058]]\n"
     ]
    },
    {
     "data": {
      "image/png": "[encoded data removed]",
      "text/plain": [
       "<Figure size 504x576 with 2 Axes>"
      ]
     },
     "metadata": {
      "needs_background": "light"
     },
     "output_type": "display_data"
    },
    {
     "name": "stdout",
     "output_type": "stream",
     "text": [
      "              precision    recall  f1-score   support\n",
      "\n",
      "           1       0.62      0.56      0.59     34002\n",
      "           2       0.66      0.77      0.71     45285\n",
      "           3       0.65      0.72      0.69      5801\n",
      "           4       0.42      0.26      0.33       468\n",
      "           5       0.65      0.11      0.18      1539\n",
      "           6       0.45      0.15      0.22      2748\n",
      "           7       0.82      0.32      0.46      3281\n",
      "\n",
      "    accuracy                           0.65     93124\n",
      "   macro avg       0.61      0.41      0.46     93124\n",
      "weighted avg       0.64      0.65      0.63     93124\n",
      "\n"
     ]
    }
   ],
   "source": [
    "clf_gb = GradientBoostingClassifier(n_estimators= 20)\n",
    "clf_gb.fit(train_pca_df, target_train)\n",
    "test_predict_gb = clf_gb.predict(test_pca_df)\n",
    "cm = confusion_matrix(target_test, test_predict_gb)\n",
    "print(cm)\n",
    "fig = plt.figure(figsize=(7, 8))\n",
    "ax = fig.add_subplot(111)\n",
    "cax = ax.matshow(cm)\n",
    "plt.title('Confusion matrix of the classifier')\n",
    "fig.colorbar(cax)\n",
    "\n",
    "plt.xlabel('Predicted')\n",
    "plt.ylabel('True')\n",
    "plt.show()\n",
    "\n",
    "print(classification_report(target_test, test_predict_gb))"
   ]
  },
  {
   "cell_type": "markdown",
   "metadata": {},
   "source": [
    "Upon looking at the KPIs of the model, we can see that this model doesn't perform very well, it is mainly because boosting is sensitive to over fitting and that is why it tends to attribute the plants from classes 7 to 1 and 2 as you can see from the confusion matrix.<br>\n",
    "<b>Limitations:</b> Number of trees used was only 15 due to longer computation time on the training dataset."
   ]
  },
  {
   "cell_type": "markdown",
   "metadata": {},
   "source": [
    "### Comparison of models using performance KPIs, Training & Testing Time"
   ]
  },
  {
   "cell_type": "markdown",
   "metadata": {},
   "source": [
    "Upon the comparision of the models chosen, the KPIs are accuracy, precision and recall \n",
    "\n",
    "\n",
    "|               | Accuracy   |  Precision and Recall |Training and Testing Time\n",
    "|-------------  |-----------------------|------------------------- |------------------------- |\n",
    "| KNN | Highest accuracy of 90%    | Good Precision and Recall averages | Fastest time in both training and testing |\n",
    "|   Bagging    | Good accuracy of 89%   | Better Precision but lesser recall average | Average in between the other models |\n",
    "|   Boosting      | Least accurate 65%       | Lowest rate in Precision and Recall averages | Boosting had taken the longest time |"
   ]
  },
  {
   "cell_type": "markdown",
   "metadata": {},
   "source": [
    "### Final predictive model recommendation "
   ]
  },
  {
   "cell_type": "markdown",
   "metadata": {},
   "source": [
    "The model that performs best would be the KNN model in case of this classification problem because of the following reasons:\n",
    "1. It gives the highest accuracy amongst all the models that were used.\n",
    "2. It is quicker to implement, and it is lazy in evaluation making it efficient.\n",
    "3. The computation time is not as long as the Ensemble methods used, even after hyperparameter tuning.\n",
    "4. This model has very few limitations int terms of computation time and parameter tuning, so it overall performs well.\n",
    "     "
   ]
  }
 ],
 "metadata": {
  "kernelspec": {
   "display_name": "Python 3",
   "language": "python",
   "name": "python3"
  },
  "language_info": {
   "codemirror_mode": {
    "name": "ipython",
    "version": 3
   },
   "file_extension": ".py",
   "mimetype": "text/x-python",
   "name": "python",
   "nbconvert_exporter": "python",
   "pygments_lexer": "ipython3",
   "version": "3.7.3"
  }
 },
 "nbformat": 4,
 "nbformat_minor": 2
}
